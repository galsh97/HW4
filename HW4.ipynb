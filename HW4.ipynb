{
 "cells": [
  {
   "cell_type": "code",
   "execution_count": 10,
   "id": "0a8a4b4f",
   "metadata": {},
   "outputs": [],
   "source": [
    "import requests , json\n",
    "API = 'PUT YOUR KEY!!'\n",
    "des = 'Jerusalem'\n",
    "city = open('dests.txt','r').read().splitlines()\n",
    "dic = {}\n",
    "furthest = []\n",
    "count = 0\n",
    "temp = {}\n",
    "for c in city:\n",
    "    url = \"https://maps.googleapis.com/maps/api/distancematrix/json?destinations=%s&origins=%s&key=%s\" % (des,c,API)\n",
    "    response = requests.get(url).json()\n",
    "    url2 = 'https://maps.googleapis.com/maps/api/geocode/json?address=%s&key=%s' % (c,API)\n",
    "    response2 = requests.get(url2).json()\n",
    "    distance = response['rows'][0]['elements'][0]['distance']['text']\n",
    "    duration = response['rows'][0]['elements'][0]['duration']['text']\n",
    "    latitude = response2['results'][0]['geometry']['location']['lat']\n",
    "    longtiude = response2['results'][0]['geometry']['location']['lng']\n",
    "    if duration.find('days') != -1 or duration.find('day') != -1:\n",
    "        dur = duration.split()\n",
    "        if len(dur) == 4:\n",
    "            dur = str(int(dur[0])*24+int(dur[2]))+' hours'\n",
    "            duration = dur\n",
    "        elif len(dur) == 6:\n",
    "            dur = str(int(dur[0])*24+int(dur[2]))+' hours '+str(dur[5])+' mins'\n",
    "            duration = dur\n",
    "        elif len(dur) == 2:\n",
    "            dur = str(int(dur[0])*24)+' hours'\n",
    "            duration = dur\n",
    "     \n",
    "    dic[c] = (distance,duration,longtiude,latitude)\n",
    "    if count >= 3:\n",
    "        if distance > min(furthest):\n",
    "            furthest.remove(min(furthest))\n",
    "            furthest.append(distance)\n",
    "    else:\n",
    "        furthest.append(distance)\n",
    "        count+=1\n",
    "for i in dic:\n",
    "    if dic[i][0] in furthest:\n",
    "        temp[i] = dic[i][0]\n",
    "    \n"
   ]
  },
  {
   "cell_type": "code",
   "execution_count": 11,
   "id": "d4277906",
   "metadata": {},
   "outputs": [
    {
     "name": "stdout",
     "output_type": "stream",
     "text": [
      "{'Istanbul': ('1,787 km', '20 hours 40 mins', 28.9783589, 41.0082376), 'Amsterdam': ('4,510 km', '48 hours', 4.9041389, 52.3675734), 'Valletta': ('3,769 km', '51 hours', 14.5145528, 35.8989085), 'Basel': ('4,074 km', '44 hours', 7.5885761, 47.5595986), 'Doha': ('2,109 km', '22 hours 0 mins', 51.53103979999999, 25.2854473)}\n",
      "\n"
     ]
    }
   ],
   "source": [
    "print(dic,end='\\n\\n')"
   ]
  },
  {
   "cell_type": "code",
   "execution_count": 12,
   "id": "89ec2a7c",
   "metadata": {},
   "outputs": [
    {
     "name": "stdout",
     "output_type": "stream",
     "text": [
      "Furthest cities are: {'Amsterdam': '4,510 km', 'Valletta': '3,769 km', 'Basel': '4,074 km'}\n"
     ]
    }
   ],
   "source": [
    "print('Furthest cities are:',temp)"
   ]
  }
 ],
 "metadata": {
  "kernelspec": {
   "display_name": "Python 3 (ipykernel)",
   "language": "python",
   "name": "python3"
  },
  "language_info": {
   "codemirror_mode": {
    "name": "ipython",
    "version": 3
   },
   "file_extension": ".py",
   "mimetype": "text/x-python",
   "name": "python",
   "nbconvert_exporter": "python",
   "pygments_lexer": "ipython3",
   "version": "3.9.7"
  }
 },
 "nbformat": 4,
 "nbformat_minor": 5
}
